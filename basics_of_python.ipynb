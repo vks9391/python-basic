{
  "nbformat": 4,
  "nbformat_minor": 0,
  "metadata": {
    "colab": {
      "provenance": []
    },
    "kernelspec": {
      "name": "python3",
      "display_name": "Python 3"
    },
    "language_info": {
      "name": "python"
    }
  },
  "cells": [
    {
      "cell_type": "markdown",
      "source": [
        "1. What is Python, and why is it popular?\n",
        "Python is a high-level, interpreted programming language known for its\n",
        "readability, simplicity, and versatility. It’s popular because of:\n",
        " Ease of learning – Its clean and intuitive syntax makes it beginner\n",
        "friendly.\n",
        " Large community – Extensive support and libraries simplify\n",
        "development.\n",
        " Versatility – Used in web development, AI, data science, automation,\n",
        "and more.\n",
        "\n",
        "2. What is an interpreter in Python?\n",
        "The interpreter is the program that runs Python code by executing it line by line.\n",
        "where code must be transformed into machine language beforehand, Python\n",
        "executes code dynamically, making debugging easier.\n",
        "\n",
        "3. What are pre-defined keywords in Python?\n",
        "Keywords in Python are reserved words used for specific functionalities, such\n",
        "as if, else, for, while, def, class, and more. These keywords are essential for\n",
        "writing Python programs.\n",
        "\n",
        "4. Can keywords be used as variable names?\n",
        "No, Python’s keywords cannot be used as variable names. They are reserved\n",
        "for specific functions in the language to avoid conflicts.\n",
        "\n",
        "5. What is mutability in Python?\n",
        "Mutability refers to whether an object’s value can be changed after creation.\n",
        "Mutable objects can be modified, while immutable objects remain constant.\n",
        "\n",
        "6. Why are lists mutable, but tuples are immutable?\n",
        "*Lists ([ ]) are mutable, meaning you can modify their contents (add,\n",
        "remove, update elements).\n",
        "*Tuples (( )) are immutable, meaning their contents cannot be changed\n",
        "once defined. This makes tuples more stable and efficient for certain\n",
        "applications.\n",
        "\n",
        "7. What is the difference between == and is operators in Python?\n",
        " == checks if two values are equal (ex- x == y)\n",
        " is checks if two variables point to the same memory location (ex- x is\n",
        "  y returns True only if they refer to the same object).\n",
        "\n",
        "8. What are logical operators in Python?\n",
        "Logical operators evaluate Boolean expressions:\n",
        "and – Returns True if both conditions are true (x > 5 and y < 10).\n",
        "or – Returns True if at least one condition is true (x > 5 or y < 10).\n",
        "not – Reverses the Boolean value (not True is False).\n",
        "\n",
        "9. What is type casting in Python?\n",
        "Type casting is converting one data type into another. Example:\n",
        "python\n",
        "num = \"5\"\n",
        "num_int = int(num)  # Converts string to integer.\n",
        "\n",
        "10. What is the difference between implicit and explicit type casting?\n",
        "Implicit casting happens automatically (5 + 2.0 results in 7.0, as Python\n",
        "converts 5 to float).\n",
        "Explicit casting requires manual conversion (int(3.8) converts 3.8 to 3).\n",
        "\n",
        "11. What is the purpose of conditional statements in Python?\n",
        "Conditional statements (if, elif, else) help control program flow by executing\n",
        "different code blocks based on given conditions.\n",
        "\n",
        "12. How does the elif statement work?\n",
        "The elif (short for \"else if\") statement allows for multiple conditional checks:\n",
        "python\n",
        "x = 10\n",
        "if x > 15:\n",
        "print(\"Greater than 15\")\n",
        "elif x > 5:\n",
        "print(\"Greater than 5 but not 15\")  # This executes\n",
        "else:\n",
        "print(\"5 or below\")\n",
        "\n",
        "13. What is the difference between for and while loops?\n",
        " For loops are used for iterating over sequences like lists or ranges.\n",
        " While loops continue execution as long as a condition remains true.\n",
        "\n",
        "14. Describe a scenario where a while loop is more suitable than a for loop.\n",
        "A while loop is preferable when the number of iterations is not predetermined.\n",
        "For instance, waiting for a user to enter correct input:\n",
        "python\n",
        "user_input = \"\"\n",
        "while user_input != \"yes\":\n",
        "user_input = input(\"Type 'yes' to continue: \")"
      ],
      "metadata": {
        "id": "TT50J7lN9SY2"
      }
    },
    {
      "cell_type": "markdown",
      "source": [
        "**practical questions**"
      ],
      "metadata": {
        "id": "94sz2GI3_r4U"
      }
    },
    {
      "cell_type": "code",
      "source": [
        "#1.Write a Python program to print \"Hello, World!\n",
        "print(\"Hello, World!\")"
      ],
      "metadata": {
        "colab": {
          "base_uri": "https://localhost:8080/"
        },
        "id": "IFcCYZkm_v7I",
        "outputId": "434a843b-4842-4268-a148-bf80025b0d66"
      },
      "execution_count": 5,
      "outputs": [
        {
          "output_type": "stream",
          "name": "stdout",
          "text": [
            "Hello, World!\n"
          ]
        }
      ]
    },
    {
      "cell_type": "code",
      "source": [
        "#2.Write a Python program that displays your name and age.\n",
        "Name='vivek'\n",
        "Age=30\n",
        "print('Name is: ', Name)\n",
        "print('Age is :', Age)"
      ],
      "metadata": {
        "colab": {
          "base_uri": "https://localhost:8080/"
        },
        "id": "13twmDAmBe7o",
        "outputId": "0f379df9-e611-4ca7-8f9c-ae90f26f93e7"
      },
      "execution_count": 7,
      "outputs": [
        {
          "output_type": "stream",
          "name": "stdout",
          "text": [
            "Name is:  vivek\n",
            "Age is : 30\n"
          ]
        }
      ]
    },
    {
      "cell_type": "code",
      "source": [
        "#3.Write code to print all the pre-defined keywords in Python using the keyword library\n",
        "import keyword\n",
        "print ('python keyword')\n",
        "print(keyword.kwlist)\n",
        "\n"
      ],
      "metadata": {
        "colab": {
          "base_uri": "https://localhost:8080/"
        },
        "id": "STEw61h3B7R2",
        "outputId": "fc90e309-9d17-4453-cc23-5ca2c49ad2a2"
      },
      "execution_count": 8,
      "outputs": [
        {
          "output_type": "stream",
          "name": "stdout",
          "text": [
            "python keyword\n",
            "['False', 'None', 'True', 'and', 'as', 'assert', 'async', 'await', 'break', 'class', 'continue', 'def', 'del', 'elif', 'else', 'except', 'finally', 'for', 'from', 'global', 'if', 'import', 'in', 'is', 'lambda', 'nonlocal', 'not', 'or', 'pass', 'raise', 'return', 'try', 'while', 'with', 'yield']\n"
          ]
        }
      ]
    },
    {
      "cell_type": "code",
      "source": [
        "#4.Write a program that checks if a given word is a Python keyword\n",
        "import keyword\n",
        "# Get user input\n",
        "word = input(\"Enter a word: \")\n",
        "if keyword.iskeyword(word):\n",
        "  print(f\"'{word}' is a Python keyword.\")\n",
        "else:\n",
        "  print(f\"'{word}' is NOT a Python keyword.\")"
      ],
      "metadata": {
        "colab": {
          "base_uri": "https://localhost:8080/"
        },
        "id": "AEyvePKiCa_m",
        "outputId": "9d2c07f2-0057-47f6-accb-94dc0a8af585"
      },
      "execution_count": 10,
      "outputs": [
        {
          "output_type": "stream",
          "name": "stdout",
          "text": [
            "Enter a word: while\n",
            "'while' is a Python keyword.\n"
          ]
        }
      ]
    },
    {
      "cell_type": "code",
      "source": [
        "#5.Create a list and tuple in Python, and demonstrate how attempting to change an element works differently for each.\n",
        "my_list = [10, 20, 30]\n",
        "print(\"Original List:\", my_list)\n",
        "# Modifying an element in the list\n",
        "my_list[1] = 25\n",
        "print(\"Modified List:\", my_list)\n",
        "my_tuple = (10, 20, 30)\n",
        "print(\"Tuple:\", my_tuple)\n",
        "my_tuple[1]=30\n",
        "print(my_tuple)\n",
        "\n",
        "\n"
      ],
      "metadata": {
        "colab": {
          "base_uri": "https://localhost:8080/",
          "height": 263
        },
        "id": "SsHVE7_4FsaZ",
        "outputId": "fe621b34-f82c-445b-d5fd-050a27c5c568"
      },
      "execution_count": 13,
      "outputs": [
        {
          "output_type": "stream",
          "name": "stdout",
          "text": [
            "Original List: [10, 20, 30]\n",
            "Modified List: [10, 25, 30]\n",
            "Tuple: (10, 20, 30)\n"
          ]
        },
        {
          "output_type": "error",
          "ename": "TypeError",
          "evalue": "'tuple' object does not support item assignment",
          "traceback": [
            "\u001b[0;31m---------------------------------------------------------------------------\u001b[0m",
            "\u001b[0;31mTypeError\u001b[0m                                 Traceback (most recent call last)",
            "\u001b[0;32m/tmp/ipython-input-118308707.py\u001b[0m in \u001b[0;36m<cell line: 0>\u001b[0;34m()\u001b[0m\n\u001b[1;32m      7\u001b[0m \u001b[0mmy_tuple\u001b[0m \u001b[0;34m=\u001b[0m \u001b[0;34m(\u001b[0m\u001b[0;36m10\u001b[0m\u001b[0;34m,\u001b[0m \u001b[0;36m20\u001b[0m\u001b[0;34m,\u001b[0m \u001b[0;36m30\u001b[0m\u001b[0;34m)\u001b[0m\u001b[0;34m\u001b[0m\u001b[0;34m\u001b[0m\u001b[0m\n\u001b[1;32m      8\u001b[0m \u001b[0mprint\u001b[0m\u001b[0;34m(\u001b[0m\u001b[0;34m\"Tuple:\"\u001b[0m\u001b[0;34m,\u001b[0m \u001b[0mmy_tuple\u001b[0m\u001b[0;34m)\u001b[0m\u001b[0;34m\u001b[0m\u001b[0;34m\u001b[0m\u001b[0m\n\u001b[0;32m----> 9\u001b[0;31m \u001b[0mmy_tuple\u001b[0m\u001b[0;34m[\u001b[0m\u001b[0;36m1\u001b[0m\u001b[0;34m]\u001b[0m\u001b[0;34m=\u001b[0m\u001b[0;36m30\u001b[0m\u001b[0;34m\u001b[0m\u001b[0;34m\u001b[0m\u001b[0m\n\u001b[0m\u001b[1;32m     10\u001b[0m \u001b[0mprint\u001b[0m\u001b[0;34m(\u001b[0m\u001b[0mmy_tuple\u001b[0m\u001b[0;34m)\u001b[0m\u001b[0;34m\u001b[0m\u001b[0;34m\u001b[0m\u001b[0m\n\u001b[1;32m     11\u001b[0m \u001b[0;34m\u001b[0m\u001b[0m\n",
            "\u001b[0;31mTypeError\u001b[0m: 'tuple' object does not support item assignment"
          ]
        }
      ]
    },
    {
      "cell_type": "code",
      "source": [
        "#6. Write a function to demonstrate the behavior of mutable and immutable arguments.\n",
        "def modify_list(my_list):\n",
        "  my_list.append(4)\n"
      ],
      "metadata": {
        "id": "zfmcv1JpzM0Y"
      },
      "execution_count": 12,
      "outputs": []
    },
    {
      "cell_type": "code",
      "source": [
        "#7.  Write a program that performs basic arithmetic operations on two user-input numbers.\n",
        "num1 = int (input('enter first no:'))\n",
        "num2 = int (input('enter second no:'))\n",
        "Add = num1 + num2\n",
        "Sub = num1 - num2\n",
        "Div = num1 / num2\n",
        "Mul = num1 * num2\n",
        "print (\"additin is\" , Add)\n",
        "print (\"substaction is \" , Sub)\n",
        "print (\"dividion is \" , Div)\n",
        "print (\"dividion is \" , Mul)"
      ],
      "metadata": {
        "colab": {
          "base_uri": "https://localhost:8080/"
        },
        "id": "6mHUKaZT0aBT",
        "outputId": "42941d1b-be8a-454f-a1fc-b34b7b178131"
      },
      "execution_count": 14,
      "outputs": [
        {
          "output_type": "stream",
          "name": "stdout",
          "text": [
            "enter first no:10\n",
            "enter second no:20\n",
            "additin is 30\n",
            "substaction is  -10\n",
            "dividion is  0.5\n",
            "dividion is  200\n"
          ]
        }
      ]
    },
    {
      "cell_type": "code",
      "source": [
        "#8. Write a program to demonstrate the use of logical operators.\n",
        "a = True\n",
        "b = False\n",
        "# Logical AND\n",
        "print(\"a and b:\", a and b)\n",
        "# Logical OR\n",
        "print(\"a or b:\", a or b)\n",
        "# Logical NOT\n",
        "print(\"not a:\", not a)\n",
        "print(\"not b:\", not b)"
      ],
      "metadata": {
        "colab": {
          "base_uri": "https://localhost:8080/"
        },
        "id": "mxbyGD6t0ucU",
        "outputId": "1b909be0-833d-4dc7-e959-9b110ead3007"
      },
      "execution_count": 15,
      "outputs": [
        {
          "output_type": "stream",
          "name": "stdout",
          "text": [
            "a and b: False\n",
            "a or b: True\n",
            "not a: False\n",
            "not b: True\n"
          ]
        }
      ]
    },
    {
      "cell_type": "code",
      "source": [
        "#9.Write a Python program to convert user input from string to integer, float, and boolean types.\n",
        " # Get user input\n",
        "user_input = input(\"Enter a value: \")\n",
        "# Convert to integer\n",
        "int_value = int(user_input)\n",
        "print(\"Integer value:\", int_value)\n",
        "# Convert to float\n",
        "float_value = float(user_input)\n",
        "print(\"Float value:\", float_value)\n",
        "# Convert to boolean\n",
        "bool_value = bool(user_input)\n",
        "print(\"Boolean value:\", bool_value)"
      ],
      "metadata": {
        "colab": {
          "base_uri": "https://localhost:8080/"
        },
        "id": "G10WWkwC1d1p",
        "outputId": "6227e437-5da5-42c6-f4b3-b93bd2fe16f8"
      },
      "execution_count": 16,
      "outputs": [
        {
          "output_type": "stream",
          "name": "stdout",
          "text": [
            "Enter a value: 10\n",
            "Integer value: 10\n",
            "Float value: 10.0\n",
            "Boolean value: True\n"
          ]
        }
      ]
    },
    {
      "cell_type": "code",
      "source": [
        "#10.  Write code to demonstrate type casting with list elements.\n",
        " # Original list of strings\n",
        "string_list = ['1', '2', '3']\n",
        "# Convert to integers\n",
        "int_list = []\n",
        "for item in string_list:\n",
        "  int_list.append(int(item))\n",
        "print(\"Integer List:\", int_list)\n",
        "# Convert to floats\n",
        "float_list = []\n",
        "for item in string_list:\n",
        "  float_list.append(float(item))\n",
        "print(\"Float List:\", float_list)"
      ],
      "metadata": {
        "colab": {
          "base_uri": "https://localhost:8080/"
        },
        "id": "ZMzpHrQi3wgY",
        "outputId": "676a5d94-a22c-456a-87a9-7952be7cc810"
      },
      "execution_count": 18,
      "outputs": [
        {
          "output_type": "stream",
          "name": "stdout",
          "text": [
            "Integer List: [1, 2, 3]\n",
            "Float List: [1.0, 2.0, 3.0]\n"
          ]
        }
      ]
    },
    {
      "cell_type": "code",
      "source": [
        "#11.  Write a program that checks if a number is positive, negative, or zero.\n",
        " # Get input from user\n",
        "num = float(input(\"Enter a number: \"))\n",
        "# Check if the number is positive, negative, or zero\n",
        "if num > 0:\n",
        "  print(\"The number is positive.\")\n",
        "elif num < 0:\n",
        "  print(\"The number is negative.\")\n",
        "else:\n",
        "  print(\"The number is zero.\")"
      ],
      "metadata": {
        "colab": {
          "base_uri": "https://localhost:8080/"
        },
        "id": "jbWpYS3D4SUt",
        "outputId": "5c92f719-4630-41e2-d1b9-c386056a4bd2"
      },
      "execution_count": 19,
      "outputs": [
        {
          "output_type": "stream",
          "name": "stdout",
          "text": [
            "Enter a number: 12\n",
            "The number is positive.\n"
          ]
        }
      ]
    },
    {
      "cell_type": "code",
      "source": [
        "#12. Write a for loop to print numbers from 1 to 10\n",
        "num= int(input(\"enter no\"))\n",
        "for a in range(1,num):\n",
        "  print(a)"
      ],
      "metadata": {
        "colab": {
          "base_uri": "https://localhost:8080/"
        },
        "id": "vschCAI55A1W",
        "outputId": "ff453f27-7382-41e3-e46b-f1fc0d7ae285"
      },
      "execution_count": 20,
      "outputs": [
        {
          "output_type": "stream",
          "name": "stdout",
          "text": [
            "enter no12\n",
            "1\n",
            "2\n",
            "3\n",
            "4\n",
            "5\n",
            "6\n",
            "7\n",
            "8\n",
            "9\n",
            "10\n",
            "11\n"
          ]
        }
      ]
    },
    {
      "cell_type": "code",
      "source": [
        "#13.  Write a Python program to find the sum of all even numbers between 1 and 50\n",
        "sum = 0\n",
        "# Loop through numbers from 1 to 50\n",
        "for num in range(1, 51):\n",
        "  if num % 2 == 0:\n",
        "    sum += num\n",
        "# Print the result\n",
        "print(\"Sum of all even numbers:\", sum)"
      ],
      "metadata": {
        "colab": {
          "base_uri": "https://localhost:8080/"
        },
        "id": "o3zuMh-75PoR",
        "outputId": "a44acdd3-241a-465a-8ea7-5f9b1c1bca0f"
      },
      "execution_count": 21,
      "outputs": [
        {
          "output_type": "stream",
          "name": "stdout",
          "text": [
            "Sum of all even numbers: 650\n"
          ]
        }
      ]
    },
    {
      "cell_type": "code",
      "source": [
        "#14.  Write a program to reverse a string using a while loop.\n",
        " # Get input from user\n",
        "text = input(\"Enter a string: \")\n",
        "# Initialize an empty string for the result\n",
        "reversed_text = \"\"\n",
        "# Set index to the last character\n",
        "index = len(text) - 1\n",
        "# Reverse the string using while loop\n",
        "while index >= 0:\n",
        "  reversed_text += text[index]\n",
        "  index -= 1\n",
        "# Print the reversed string\n",
        "print(\"Reversed string:\", reversed_text)"
      ],
      "metadata": {
        "colab": {
          "base_uri": "https://localhost:8080/"
        },
        "id": "R47dVWiM5hY3",
        "outputId": "f90b8768-39b1-4fb9-a554-fe38144d84ff"
      },
      "execution_count": 23,
      "outputs": [
        {
          "output_type": "stream",
          "name": "stdout",
          "text": [
            "Enter a string: rahul\n",
            "Reversed string: luhar\n"
          ]
        }
      ]
    },
    {
      "cell_type": "code",
      "source": [
        "#15. Write a Python program to calculate the factorial of a number provided by the user using a while loop.\n",
        "# Get input from user\n",
        "num = int(input(\"Enter a number to find its factorial: \"))\n",
        "# Initialize factorial result\n",
        "factorial = 1\n",
        "# Use while loop\n",
        "n = num\n",
        "while n > 0:\n",
        "  factorial *= n\n",
        "  n -= 1\n",
        "# Print the result\n",
        "print(\"Factorial of\", num, \"is:\", factorial)"
      ],
      "metadata": {
        "colab": {
          "base_uri": "https://localhost:8080/"
        },
        "id": "t8wqhP4H6EHs",
        "outputId": "ce5a4dc1-9d22-4f3e-d23e-27fe39e05f1a"
      },
      "execution_count": 25,
      "outputs": [
        {
          "output_type": "stream",
          "name": "stdout",
          "text": [
            "Enter a number to find its factorial: 5\n",
            "Factorial of 5 is: 120\n"
          ]
        }
      ]
    }
  ]
}